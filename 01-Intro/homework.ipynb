{
 "cells": [
  {
   "cell_type": "code",
   "execution_count": 1,
   "id": "e3fc19e7-89a9-437e-b853-dbd7846d8140",
   "metadata": {},
   "outputs": [],
   "source": [
    "import openai"
   ]
  },
  {
   "cell_type": "code",
   "execution_count": 2,
   "id": "b6d008d0-26ea-41e5-bf99-9b3664d03d45",
   "metadata": {},
   "outputs": [],
   "source": [
    "from openai import OpenAI"
   ]
  },
  {
   "cell_type": "code",
   "execution_count": 3,
   "id": "ac36068a-5785-42fe-a3c1-6b2591806bd1",
   "metadata": {},
   "outputs": [],
   "source": [
    "client = OpenAI()"
   ]
  },
  {
   "cell_type": "code",
   "execution_count": 4,
   "id": "c9fe7799-f6f8-40a8-9dc4-5c9534d3de6e",
   "metadata": {},
   "outputs": [],
   "source": [
    "import os"
   ]
  },
  {
   "cell_type": "code",
   "execution_count": 5,
   "id": "20209d12-ab94-4402-b7e9-740a01f230eb",
   "metadata": {},
   "outputs": [],
   "source": [
    "response = client.chat.completions.create(model='gpt-4o', messages=[{\"role\": \"user\", \"content\": \"is it to late to join the course?\"}])"
   ]
  },
  {
   "cell_type": "code",
   "execution_count": 6,
   "id": "d3e9d242-b4db-40cc-a8c9-1a15d4b39a92",
   "metadata": {},
   "outputs": [
    {
     "data": {
      "text/plain": [
       "\"I'm not sure which specific course you're referring to, but it's generally best to check the course's official website or contact the institution offering the course for the most accurate information. They can provide details about enrollment deadlines, availability, and any possible late registration options.\""
      ]
     },
     "execution_count": 6,
     "metadata": {},
     "output_type": "execute_result"
    }
   ],
   "source": [
    "response.choices[0].message.content"
   ]
  },
  {
   "cell_type": "code",
   "execution_count": null,
   "id": "75dafae1-c915-4704-ba90-670ce0f95b2f",
   "metadata": {},
   "outputs": [],
   "source": []
  }
 ],
 "metadata": {
  "kernelspec": {
   "display_name": "Python 3 (ipykernel)",
   "language": "python",
   "name": "python3"
  },
  "language_info": {
   "codemirror_mode": {
    "name": "ipython",
    "version": 3
   },
   "file_extension": ".py",
   "mimetype": "text/x-python",
   "name": "python",
   "nbconvert_exporter": "python",
   "pygments_lexer": "ipython3",
   "version": "3.12.1"
  }
 },
 "nbformat": 4,
 "nbformat_minor": 5
}
